{
 "cells": [
  {
   "cell_type": "code",
   "execution_count": null,
   "id": "c57918e6-ed58-4c87-a484-85c6abbe78b4",
   "metadata": {},
   "outputs": [],
   "source": [
    "1. What is the difference between a neuron and a neural network?"
   ]
  },
  {
   "cell_type": "code",
   "execution_count": null,
   "id": "68e8c080-2060-4078-b179-373be8e253cf",
   "metadata": {},
   "outputs": [],
   "source": [
    "ANS = \n",
    "    In the context of a neural network, a neuron is the most fundamental unit of processing.\n",
    "    Its also called a perceptron.\n",
    "    A neural network is based on the way a human brain works.\n",
    "    So, we can say that it simulates the way the biological neurons signal to one another."
   ]
  },
  {
   "cell_type": "code",
   "execution_count": null,
   "id": "3b3a325d-e4bb-4a11-b3c9-79f1bdad8f83",
   "metadata": {},
   "outputs": [],
   "source": []
  },
  {
   "cell_type": "code",
   "execution_count": null,
   "id": "e782da26-78d1-4d90-b05c-c023565710f1",
   "metadata": {},
   "outputs": [],
   "source": [
    "2. Can you explain the structure and components of a neuron?"
   ]
  },
  {
   "cell_type": "code",
   "execution_count": null,
   "id": "42e25c62-d567-497b-8e48-bbae909909fa",
   "metadata": {},
   "outputs": [],
   "source": [
    "ANS = \n",
    "    A neuron has three main parts:\n",
    "    dendrites, an axon, and a cell body or soma ,\n",
    "    which can be represented as the branches,\n",
    "    roots and trunk of a tree, respectively.\n",
    "    A dendrite (tree branch) is where a neuron receives input from other cells."
   ]
  },
  {
   "cell_type": "code",
   "execution_count": null,
   "id": "bd764ab6-d799-435e-93b0-b44c3848340f",
   "metadata": {},
   "outputs": [],
   "source": []
  },
  {
   "cell_type": "code",
   "execution_count": null,
   "id": "6366efd0-8c99-4e6d-bf71-789c5187a8e1",
   "metadata": {},
   "outputs": [],
   "source": [
    "3. Describe the architecture and functioning of a perceptron."
   ]
  },
  {
   "cell_type": "code",
   "execution_count": null,
   "id": "de58dbc1-9bb1-4036-be6a-2f774e4e3ee0",
   "metadata": {},
   "outputs": [],
   "source": [
    "ANS = \n",
    "    An Activation Function decides whether a neuron should be activated or not.\n",
    "    This means that it will decide whether the neurons input to the network is \n",
    "    important or not in the process of prediction using simpler mathematical operations."
   ]
  },
  {
   "cell_type": "code",
   "execution_count": null,
   "id": "8dc15360-900c-4f11-9f0d-c34470b49690",
   "metadata": {},
   "outputs": [],
   "source": []
  },
  {
   "cell_type": "code",
   "execution_count": null,
   "id": "9f92d570-14fa-4a83-8f6e-82a83c9343ec",
   "metadata": {},
   "outputs": [],
   "source": [
    "4. What is the main difference between a perceptron and a multilayer perceptron?"
   ]
  },
  {
   "cell_type": "code",
   "execution_count": null,
   "id": "f4f04b21-7d60-4991-be44-93409deabf2e",
   "metadata": {},
   "outputs": [],
   "source": [
    "ANS = \n",
    "    A perceptron is a simple type of neural network that can learn to classify linearly separable patterns.\n",
    "    It consists of a single layer of weighted inputs and a binary output. \n",
    "    A multi-layer perceptron (MLP) is a more complex type of neural network \n",
    "    that can learn to classify non-linearly separable patterns."
   ]
  },
  {
   "cell_type": "code",
   "execution_count": null,
   "id": "3d650f1e-ac89-48c6-9f1d-9ddd0f153293",
   "metadata": {},
   "outputs": [],
   "source": []
  },
  {
   "cell_type": "code",
   "execution_count": null,
   "id": "8a4079d9-dcb0-4c58-a937-308d4ab05e29",
   "metadata": {},
   "outputs": [],
   "source": [
    "5. Explain the concept of forward propagation in a neural network."
   ]
  },
  {
   "cell_type": "code",
   "execution_count": null,
   "id": "71e12984-331c-4284-af9d-b78149ffdb9d",
   "metadata": {},
   "outputs": [],
   "source": [
    "ANS = \n",
    "    Forward propagation is where input data is fed through a network,\n",
    "    in a forward direction, to generate an output.\n",
    "    The data is accepted by hidden layers and processed, \n",
    "    as per the activation function, and moves to the successive layer."
   ]
  },
  {
   "cell_type": "code",
   "execution_count": null,
   "id": "bb19a3fd-c766-4cb6-affe-5e38412b61bd",
   "metadata": {},
   "outputs": [],
   "source": []
  },
  {
   "cell_type": "code",
   "execution_count": null,
   "id": "a7a9daf5-68d1-4655-ac62-4317886f9e94",
   "metadata": {},
   "outputs": [],
   "source": [
    "6. What is backpropagation, and why is it important in neural network training?"
   ]
  },
  {
   "cell_type": "code",
   "execution_count": null,
   "id": "e92c6931-1aa8-4d01-8994-9db1385005b7",
   "metadata": {},
   "outputs": [],
   "source": [
    "ANS = \n",
    "     Backpropagation, or backward propagation of errors, \n",
    "    is an algorithm that is designed to test for errors working back from output nodes to input nodes.\n",
    "    It is an important mathematical tool for improving the accuracy of predictions in data mining and machine learning."
   ]
  },
  {
   "cell_type": "code",
   "execution_count": null,
   "id": "3b0a2f83-dfbd-4cdf-a2d7-ae6c35aa39d1",
   "metadata": {},
   "outputs": [],
   "source": []
  },
  {
   "cell_type": "code",
   "execution_count": null,
   "id": "6d0186e9-044f-46c6-be78-4bba788fa426",
   "metadata": {},
   "outputs": [],
   "source": [
    "7. How does the chain rule relate to backpropagation in neural networks?"
   ]
  },
  {
   "cell_type": "code",
   "execution_count": null,
   "id": "fd50ba61-ff79-44d9-bd19-cefb5b82154b",
   "metadata": {},
   "outputs": [],
   "source": [
    "Ans =\n",
    "    The chain rule can be generalised to multivariate functions,\n",
    "    and represented by a tree diagram. \n",
    "    The chain rule is applied extensively by the backpropagation algorithm \n",
    "    in order to calculate the error gradient of the loss function with respect to each weight."
   ]
  },
  {
   "cell_type": "code",
   "execution_count": null,
   "id": "0a72adc3-d5fe-4e50-be47-07ed69013886",
   "metadata": {},
   "outputs": [],
   "source": []
  },
  {
   "cell_type": "code",
   "execution_count": null,
   "id": "88b6fd4e-ec7d-467b-a59f-2c199b3674c2",
   "metadata": {},
   "outputs": [],
   "source": [
    "8. What are loss functions, and what role do they play in neural networks?"
   ]
  },
  {
   "cell_type": "code",
   "execution_count": null,
   "id": "e85773e4-4a62-48f6-9641-1de2c7f1ab65",
   "metadata": {},
   "outputs": [],
   "source": [
    "ANS = \n",
    "    A loss function is a function that compares the target and predicted output\n",
    "    values; measures how well the neural network models the training data. \n",
    "    When training, we aim to minimize this loss between the predicted and target outputs."
   ]
  },
  {
   "cell_type": "code",
   "execution_count": null,
   "id": "5de7fcdd-711a-4f8d-9387-3e625924748d",
   "metadata": {},
   "outputs": [],
   "source": []
  },
  {
   "cell_type": "code",
   "execution_count": null,
   "id": "bb407413-bbd2-4b77-ae84-b8c0d0bd0576",
   "metadata": {},
   "outputs": [],
   "source": [
    "9. Can you give examples of different types of loss functions used in neural networks?"
   ]
  },
  {
   "cell_type": "code",
   "execution_count": null,
   "id": "bb919bf6-a9cf-4fdc-95ba-343189f4192c",
   "metadata": {},
   "outputs": [],
   "source": [
    "ANS = \n",
    "     Some common loss functions in neural networks used for regression tasks include mean squared error (MSE) loss, \n",
    "    mean squared logarithmic error (MSLE) loss, and mean absolute error (MAE) loss.\n",
    "    \n",
    "Mean Absolute Error.\n",
    "Mean Squared Error.\n",
    "Huber Loss.\n",
    "Cross-Entropy.\n",
    "Relative Entropy.\n",
    "Squared Hinge."
   ]
  },
  {
   "cell_type": "code",
   "execution_count": null,
   "id": "0ef4e032-4c92-4694-94b7-57895f88726b",
   "metadata": {},
   "outputs": [],
   "source": []
  },
  {
   "cell_type": "code",
   "execution_count": null,
   "id": "b8bf6bc9-2999-49de-9a8c-5b24d85aff17",
   "metadata": {},
   "outputs": [],
   "source": [
    "10. Discuss the purpose and functioning of optimizers in neural networks."
   ]
  },
  {
   "cell_type": "code",
   "execution_count": null,
   "id": "0b68d636-e787-425b-b67d-0a3d18b80fb8",
   "metadata": {},
   "outputs": [],
   "source": [
    "Ans = \n",
    "    An optimizer is an algorithm or function that adapts the neural networks attributes, \n",
    "    like learning rate and weights.\n",
    "    Hence, it assists in improving the accuracy and reduces the total loss. \n",
    "    But it is a daunting task to choose the appropriate weights for the model."
   ]
  },
  {
   "cell_type": "code",
   "execution_count": null,
   "id": "fcdc2929-6979-4f60-a316-598b1d6fa0df",
   "metadata": {},
   "outputs": [],
   "source": []
  },
  {
   "cell_type": "code",
   "execution_count": null,
   "id": "e7ad64a6-0b77-4dc6-8d26-6520904b55bd",
   "metadata": {},
   "outputs": [],
   "source": [
    "11. What is the exploding gradient problem, and how can it be mitigated?"
   ]
  },
  {
   "cell_type": "code",
   "execution_count": null,
   "id": "775b4ef1-2f91-4113-bed2-732e21d60dcb",
   "metadata": {},
   "outputs": [],
   "source": [
    "ANS = \n",
    "    In the case of exploding gradients,\n",
    "    the accumulation of large derivatives results in the model being very unstable\n",
    "    and incapable of effective learning, \n",
    "    The large changes in the models weights creates a very unstable network,\n",
    "    which at extreme values the weights become so large that is causes overflow resulting in NaN ."
   ]
  },
  {
   "cell_type": "code",
   "execution_count": null,
   "id": "2b8b342f-86f2-471e-9491-b8fbb992a333",
   "metadata": {},
   "outputs": [],
   "source": []
  },
  {
   "cell_type": "code",
   "execution_count": null,
   "id": "8acbadcf-1ac7-4369-ae32-70e4fa3c842b",
   "metadata": {},
   "outputs": [],
   "source": [
    "12. Explain the concept of the vanishing gradient problem and its impact on neural network training."
   ]
  },
  {
   "cell_type": "code",
   "execution_count": null,
   "id": "8b80bf73-c76b-4682-bc1d-8a88debd7c65",
   "metadata": {},
   "outputs": [],
   "source": [
    "ANS = \n",
    "    Vanishing gradient problem is a phenomenon that occurs during the training of deep neural networks,\n",
    "    where the gradients that are used to update the network become extremely small\n",
    "    or \"vanish\" as they are backpropogated from the output layers to the earlier layers."
   ]
  },
  {
   "cell_type": "code",
   "execution_count": null,
   "id": "8cb6fd7b-f9f5-468c-be89-9dde6eb595e3",
   "metadata": {},
   "outputs": [],
   "source": []
  },
  {
   "cell_type": "code",
   "execution_count": null,
   "id": "987ced2d-2000-4a28-a06f-4cfe4c3743d1",
   "metadata": {},
   "outputs": [],
   "source": [
    "13. How does regularization help in preventing overfitting in neural networks?"
   ]
  },
  {
   "cell_type": "code",
   "execution_count": null,
   "id": "b8c9a709-4628-47cb-8fb6-87e58847254d",
   "metadata": {},
   "outputs": [],
   "source": [
    "ANS = \n",
    "    Regularization is a technique that penalizes the coefficient.\n",
    "    In an overfit model, the coefficients are generally inflated. \n",
    "    Thus, Regularization adds penalties to the parameters and avoids them weigh heavily.\n",
    "    The coefficients are added to the cost function of the linear equation."
   ]
  },
  {
   "cell_type": "code",
   "execution_count": null,
   "id": "f64bae0a-6cd2-4e88-b60b-d51af8cb86be",
   "metadata": {},
   "outputs": [],
   "source": []
  },
  {
   "cell_type": "code",
   "execution_count": null,
   "id": "5930613d-6e86-4085-bd62-11f1781ecb11",
   "metadata": {},
   "outputs": [],
   "source": [
    "14. Describe the concept of normalization in the context of neural networks."
   ]
  },
  {
   "cell_type": "code",
   "execution_count": null,
   "id": "036dbfae-dd6a-44d3-b3ba-47273a713df4",
   "metadata": {},
   "outputs": [],
   "source": [
    "ANS = \n",
    "     Normalization is the process of transforming the data to have a mean zero and standard deviation one.\n",
    "    In this step we have our batch input from layer h, first, we need to calculate the mean of this hidden activation. \n",
    "    Here, m is the number of neurons at layer h"
   ]
  },
  {
   "cell_type": "code",
   "execution_count": null,
   "id": "7050d7ff-0511-4882-ba82-481d0afd00db",
   "metadata": {},
   "outputs": [],
   "source": []
  },
  {
   "cell_type": "code",
   "execution_count": null,
   "id": "4c4486ba-be2d-4f5e-84b0-1e6080357882",
   "metadata": {},
   "outputs": [],
   "source": [
    "15. What are the commonly used activation functions in neural networks?"
   ]
  },
  {
   "cell_type": "code",
   "execution_count": null,
   "id": "348e8599-b7b5-4a78-a6ec-99d2bde56f03",
   "metadata": {},
   "outputs": [],
   "source": [
    "ANS = \n",
    "    Common activation functions include Sigmoid, hyperbolic tangent function (Tanh),\n",
    "    rectified linear unit (ReLU), and leaky ReLU (LReLU).\n",
    "*Linear or Identity Activation Function.\n",
    "*Non-linear Activation Function.\n",
    "*Sigmoid or Logistic Activation Function.\n",
    "*Tanh or hyperbolic tangent Activation Function.\n",
    "*ReLU (Rectified Linear Unit) Activation Function.\n",
    "*Leaky ReLU."
   ]
  },
  {
   "cell_type": "code",
   "execution_count": null,
   "id": "d4f1461b-3ce4-4020-b5ee-e96e5144e3fa",
   "metadata": {},
   "outputs": [],
   "source": []
  },
  {
   "cell_type": "code",
   "execution_count": null,
   "id": "b0e88eac-5dad-46ff-89c8-8663a9948407",
   "metadata": {},
   "outputs": [],
   "source": [
    "16. Explain the concept of batch normalization and its advantages.\n"
   ]
  },
  {
   "cell_type": "code",
   "execution_count": null,
   "id": "e3bb52a5-4d92-4fd0-84e0-ed211aba2633",
   "metadata": {},
   "outputs": [],
   "source": [
    "ANS = \n",
    "    Batch normalization is a technique to standardize the inputs to a network, \n",
    "    applied to ether the activations of a prior layer or inputs directly.\n",
    "    Batch normalization accelerates training, in some cases by halving the epochs or better,\n",
    "    and provides some regularization, reducing generalization error."
   ]
  },
  {
   "cell_type": "code",
   "execution_count": null,
   "id": "68637673-50d2-47fd-8b32-88b7a08d69c3",
   "metadata": {},
   "outputs": [],
   "source": []
  },
  {
   "cell_type": "code",
   "execution_count": null,
   "id": "d7216e23-86a1-4706-902d-4cbb1acf7e60",
   "metadata": {},
   "outputs": [],
   "source": [
    "17. Discuss the concept of weight initialization in neural networks and its importance.\n"
   ]
  },
  {
   "cell_type": "code",
   "execution_count": null,
   "id": "f68dcf51-4331-44aa-84c6-a55ee42198d1",
   "metadata": {},
   "outputs": [],
   "source": [
    "ANS = \n",
    "    Weight initialization is used to define the initial values for the parameters \n",
    "    in neural network models prior to training the models on a dataset.\n",
    "    How to implement the xavier and normalized xavier weight initialization \n",
    "    heuristics used for nodes that use the Sigmoid or Tanh activation functions."
   ]
  },
  {
   "cell_type": "code",
   "execution_count": null,
   "id": "4eb25870-7d73-411f-85d5-dfd859417afa",
   "metadata": {},
   "outputs": [],
   "source": []
  },
  {
   "cell_type": "code",
   "execution_count": null,
   "id": "e4c3da48-8e1b-4674-a2bd-28ab1af356af",
   "metadata": {},
   "outputs": [],
   "source": [
    "18. Can you explain the role of momentum in optimization algorithms for neural networks?"
   ]
  },
  {
   "cell_type": "code",
   "execution_count": null,
   "id": "567e284d-4771-4522-8a0b-55a7d5a6ca47",
   "metadata": {},
   "outputs": [],
   "source": [
    "ANS = \n",
    "     Momentum is an extension to the gradient descent optimization algorithm that allows \n",
    "    the search to build inertia in a direction in the search space and overcome the\n",
    "    oscillations of noisy gradients and coast across flat spots of the search space."
   ]
  },
  {
   "cell_type": "code",
   "execution_count": null,
   "id": "7773a5be-b9ea-4ecc-9a55-078bbaf98db2",
   "metadata": {},
   "outputs": [],
   "source": []
  },
  {
   "cell_type": "code",
   "execution_count": null,
   "id": "8e80adae-06af-48f2-9df8-e313b932ebef",
   "metadata": {},
   "outputs": [],
   "source": [
    "19. What is the difference between L1 and L2 regularization in neural networks?"
   ]
  },
  {
   "cell_type": "code",
   "execution_count": null,
   "id": "6318dbfe-5301-4b92-abf9-f5e3bf826c4f",
   "metadata": {},
   "outputs": [],
   "source": [
    "ANS = \n",
    "     L1 and L2 regularization are commonly used regularization techniques in neural networks:\n",
    "   - L1 regularization, also known as Lasso regularization, adds a penalty term proportional to \n",
    "     the absolute values of the weights to the loss function. \n",
    "     This encourages sparsity in the weight values, leading to some weights being exactly zero and effectively performing feature selection.\n",
    "   - L2 regularization, also known as Ridge regularization, adds a penalty term proportional\n",
    "     to the squared values of the weights to the loss function. \n",
    "      This encourages smaller weights and reduces the overall magnitude of the weights, but does not lead to exact zero values.\n"
   ]
  },
  {
   "cell_type": "code",
   "execution_count": null,
   "id": "017f99f1-8200-4a9b-a9ba-d11e06b22c3f",
   "metadata": {},
   "outputs": [],
   "source": []
  },
  {
   "cell_type": "code",
   "execution_count": null,
   "id": "9cdc9cf4-1fa1-4f32-8d60-feb390ce3d3c",
   "metadata": {},
   "outputs": [],
   "source": [
    "20. How can early stopping be used as a regularization technique in neural networks?"
   ]
  },
  {
   "cell_type": "code",
   "execution_count": null,
   "id": "4c9d5f95-d950-4cc4-9003-1152f300b8ac",
   "metadata": {},
   "outputs": [],
   "source": [
    "ANS =\n",
    "    Early stopping is a form of regularization that involves monitoring the performance of the model on a validation set during training.\n",
    "    It stops the training process when the performance on the validation set starts to degrade or reach a plateau. \n",
    "    By preventing the model from overfitting the training data too closely, early stopping helps improve generalization \n",
    "    by selecting the model that performs best on unseen data.\n",
    "\n"
   ]
  },
  {
   "cell_type": "code",
   "execution_count": null,
   "id": "21da337f-7c0b-4df8-9a56-905191c6da69",
   "metadata": {},
   "outputs": [],
   "source": []
  },
  {
   "cell_type": "code",
   "execution_count": null,
   "id": "37d992de-6da3-4820-a2f6-afd46f65c380",
   "metadata": {},
   "outputs": [],
   "source": [
    "21. Describe the concept and application of dropout regularization in neural networks."
   ]
  },
  {
   "cell_type": "code",
   "execution_count": null,
   "id": "a39ee6aa-26f5-425c-8ac9-03fbab5c99c2",
   "metadata": {},
   "outputs": [],
   "source": [
    "ANS = \n",
    "    Dropout is a regularization method approximating concurrent training of many neural networks with various designs. \n",
    "    During training, some layer outputs are ignored or dropped at random.\n",
    "    This makes the layer appear and is regarded as having a different number of nodes and connectedness to the preceding layer."
   ]
  },
  {
   "cell_type": "code",
   "execution_count": null,
   "id": "44973ac1-66cd-4669-83c3-344cba666c9f",
   "metadata": {},
   "outputs": [],
   "source": []
  },
  {
   "cell_type": "code",
   "execution_count": null,
   "id": "cddc1943-c933-43ab-bdd5-05b88e870c57",
   "metadata": {},
   "outputs": [],
   "source": [
    "22. Explain the importance of learning rate in training neural networks."
   ]
  },
  {
   "cell_type": "code",
   "execution_count": null,
   "id": "cf9912f2-b8a5-4964-859c-3d35f11fcf79",
   "metadata": {},
   "outputs": [],
   "source": [
    "ANS = \n",
    "    The Role of Learning Rate in Neural Network Models\n",
    "    The learning rate, which governs how often the weights of the network are changed, \n",
    "    dictates the magnitude of the update made to the weights. \n",
    "    The convergence speed and solution quality are highly dependent on the learning rate."
   ]
  },
  {
   "cell_type": "code",
   "execution_count": null,
   "id": "28515ab6-32e0-4938-b5a9-dd0ac04f2392",
   "metadata": {},
   "outputs": [],
   "source": []
  },
  {
   "cell_type": "code",
   "execution_count": null,
   "id": "e243505d-dc76-478e-9a86-e0daf61a0ada",
   "metadata": {},
   "outputs": [],
   "source": [
    "23. What are the challenges associated with training deep neural networks?"
   ]
  },
  {
   "cell_type": "code",
   "execution_count": null,
   "id": "0474e608-b5ab-4394-9d4b-a36d2e6a4305",
   "metadata": {},
   "outputs": [],
   "source": [
    "ANS = \n",
    "    Deep learning has several advantages over traditional machine learning methods, \n",
    "    including automatic feature learning, handling large and complex data, improved performance, \n",
    "    handling non-linear relationships, handling structured and unstructured data, predictive modeling,\n",
    "    handling missing data, handling sequential data,"
   ]
  },
  {
   "cell_type": "code",
   "execution_count": null,
   "id": "b68191e6-b50a-43f9-833e-fe0ec217b00e",
   "metadata": {},
   "outputs": [],
   "source": []
  },
  {
   "cell_type": "code",
   "execution_count": null,
   "id": "a0d5f533-77df-45b7-af43-88bd0e84ffcb",
   "metadata": {},
   "outputs": [],
   "source": [
    "24. How does a convolutional neural network (CNN) differ from a regular neural network?"
   ]
  },
  {
   "cell_type": "code",
   "execution_count": null,
   "id": "e7ce6925-082e-4b72-aa49-a70141122cc9",
   "metadata": {},
   "outputs": [],
   "source": [
    "ANS = \n",
    "     This article explained the main differences between convolutional and regular neural networks.\n",
    "    To conclude, the main difference is that CNN uses convolution operation to process the data,\n",
    "    which has some benefits for working with images.\n",
    "    In that way, CNNs reduce the number of parameters in the network."
   ]
  },
  {
   "cell_type": "code",
   "execution_count": null,
   "id": "85db08bd-35f7-4e52-aa5c-acd784f2358b",
   "metadata": {},
   "outputs": [],
   "source": []
  },
  {
   "cell_type": "code",
   "execution_count": null,
   "id": "97a14ba6-ebbb-43a9-8e5d-9e2034d91d8d",
   "metadata": {},
   "outputs": [],
   "source": [
    "25. Can you explain the purpose and functioning of pooling layers in CNNs?"
   ]
  },
  {
   "cell_type": "code",
   "execution_count": null,
   "id": "63857174-4bb0-45ce-9b01-967427394f53",
   "metadata": {},
   "outputs": [],
   "source": [
    "ANS = \n",
    "     In a convolutional neural network, pooling layers are applied after the convolutional layer.\n",
    "    The main purpose of pooling is to reduce the size of feature maps, which in turn makes computation\n",
    "    faster because the number of training parameters is reduced."
   ]
  },
  {
   "cell_type": "code",
   "execution_count": null,
   "id": "3c9e56cb-67fb-4fc2-9e65-580dda5597ad",
   "metadata": {},
   "outputs": [],
   "source": []
  },
  {
   "cell_type": "code",
   "execution_count": null,
   "id": "03ccd676-a170-4fb3-a8b5-5080fc0ec36a",
   "metadata": {},
   "outputs": [],
   "source": [
    "26. What is a recurrent neural network (RNN), and what are its applications?"
   ]
  },
  {
   "cell_type": "code",
   "execution_count": null,
   "id": "58a3a17f-2c25-48de-82eb-48b6b39e9b93",
   "metadata": {},
   "outputs": [],
   "source": [
    "ANS = \n",
    "   A recurrent neural network (RNN) is a type of neural network specifically designed \n",
    "    to process sequential data or data with temporal dependencies.\n",
    "    Unlike feedforward neural networks, RNNs have feedback connections,\n",
    "    allowing information to persist and be processed over time. \n",
    "    RNNs have a hidden state that serves as a memory, allowing them to capture sequential patterns and context. \n",
    "    They are commonly used for tasks such as natural language processing, \n",
    "    speech recognition, and time series analysis."
   ]
  },
  {
   "cell_type": "code",
   "execution_count": null,
   "id": "9a80cd91-f08a-4d66-8504-ae526f79caa9",
   "metadata": {},
   "outputs": [],
   "source": []
  },
  {
   "cell_type": "code",
   "execution_count": null,
   "id": "1050b578-de57-4ad4-ad8f-14b9ec6ec565",
   "metadata": {},
   "outputs": [],
   "source": [
    "27. Describe the concept and benefits of long short-term memory (LSTM) networks."
   ]
  },
  {
   "cell_type": "code",
   "execution_count": null,
   "id": "afd7b151-b3e1-4c0d-ad85-3b8c5fa5b68e",
   "metadata": {},
   "outputs": [],
   "source": [
    "ANS=\n",
    "     Long short-term memory (LSTM) networks are a type of recurrent neural network that addresses the vanishing gradient problem,\n",
    "    which can occur during backpropagation in deep neural networks.\n",
    "    The vanishing gradient problem refers to the issue of gradients diminishing or exploding exponentially \n",
    "    as they are propagated backward through layers, making it challenging for the network to learn from distant dependencies. \n",
    "    LSTM networks use a gating mechanism, including forget gates and input gates,\n",
    "    to control the flow of information and alleviate the vanishing gradient problem. \n",
    "    By selectively retaining and updating information, LSTM networks can capture long-term dependencies.\n",
    "\n"
   ]
  },
  {
   "cell_type": "code",
   "execution_count": null,
   "id": "58da2b83-1fad-401c-adde-bcd7b57eabe9",
   "metadata": {},
   "outputs": [],
   "source": []
  },
  {
   "cell_type": "code",
   "execution_count": null,
   "id": "432657c1-4275-4e15-b402-053de8d5001e",
   "metadata": {},
   "outputs": [],
   "source": [
    "28. What are generative adversarial networks (GANs), and how do they work?"
   ]
  },
  {
   "cell_type": "code",
   "execution_count": null,
   "id": "9cbb5bd4-9249-4537-8f19-46914630ebcf",
   "metadata": {},
   "outputs": [],
   "source": [
    "ANS = \n",
    "     Generative adversarial networks (GANs) are a type of neural network architecture consisting of two main components:\n",
    "        a generator and a discriminator\n",
    "        . GANs are used for generating synthetic data that closely resembles a given training dataset. \n",
    "        The generator tries to produce realistic data samples, while the discriminator aims to distinguish between real and fake samples.\n",
    "        Through an adversarial training process, the generator and discriminator compete and improve\n",
    "        iteratively, resulting in the generation of high-quality synthetic data. \n",
    "        GANs have applications in image synthesis, text generation, and anomaly detection"
   ]
  },
  {
   "cell_type": "code",
   "execution_count": null,
   "id": "199eb62b-f4a8-4e98-80e6-9bb591a72f97",
   "metadata": {},
   "outputs": [],
   "source": []
  },
  {
   "cell_type": "code",
   "execution_count": null,
   "id": "9f2a7804-8862-4aea-a462-a460e5737571",
   "metadata": {},
   "outputs": [],
   "source": [
    "29. Can you explain the purpose and functioning of autoencoder neural networks?"
   ]
  },
  {
   "cell_type": "code",
   "execution_count": null,
   "id": "595e175a-da26-446e-841c-ca26b6792a30",
   "metadata": {},
   "outputs": [],
   "source": [
    "ANS = \n",
    "    The aim of an autoencoder is to learn a lower-dimensional representation (encoding) for a higher-dimensional data,\n",
    "    typically for dimensionality reduction,\n",
    "    by training the network to capture the most important parts of the input image."
   ]
  },
  {
   "cell_type": "code",
   "execution_count": null,
   "id": "2df12e95-36c6-41de-90b0-11f1d1cd4510",
   "metadata": {},
   "outputs": [],
   "source": []
  },
  {
   "cell_type": "code",
   "execution_count": null,
   "id": "df8b3cbb-52b8-4793-bb3c-032dc4e27ccb",
   "metadata": {},
   "outputs": [],
   "source": [
    "30. Discuss the concept and applications of self-organizing maps (SOMs) in neural networks.\n"
   ]
  },
  {
   "cell_type": "code",
   "execution_count": null,
   "id": "3ca79d04-d3de-4bae-aabc-b195884da835",
   "metadata": {},
   "outputs": [],
   "source": [
    "ANS = \n",
    "     A self-organizing map (SOM) neural network, also known as a Kohonen network, \n",
    "    is an unsupervised learning model that learns to represent high-dimensional data in\n",
    "    a lower-dimensional space while preserving the topological structure of the input data. \n",
    "    It is commonly used for clustering and visualization tasks. \n",
    "    A SOM consists of an input layer and a competitive layer, where\n",
    "    each neuron in the competitive layer represents a prototype or codebook vector.\n",
    "    During training, the SOM adjusts its weights to map similar input patterns to neighboring neurons, \n",
    "    forming clusters in the competitive layer.\n",
    "    SOMs are particularly useful for exploratory data analysis and visualization of high-dimensional data."
   ]
  },
  {
   "cell_type": "code",
   "execution_count": null,
   "id": "2e8e339d-5273-4934-9d3a-02ee50f3df46",
   "metadata": {},
   "outputs": [],
   "source": []
  },
  {
   "cell_type": "code",
   "execution_count": null,
   "id": "af812ceb-0212-48d0-9d0b-f83ba3cb82f8",
   "metadata": {},
   "outputs": [],
   "source": [
    "31. How can neural networks be used for regression tasks?"
   ]
  },
  {
   "cell_type": "code",
   "execution_count": null,
   "id": "79c7aa76-7e7a-4d70-84bf-685277a81ad7",
   "metadata": {},
   "outputs": [],
   "source": [
    "ANS =\n",
    "     Regression With a Deep Neural Network (DNN)\n",
    "     The input features are passed through the input layer of the DNN and then processed by the hidden layers, \n",
    "        which use non-linear activation functions to learn complex relationships in the data."
   ]
  },
  {
   "cell_type": "code",
   "execution_count": null,
   "id": "11b395df-9c5d-4326-aaa5-303f5b0821af",
   "metadata": {},
   "outputs": [],
   "source": []
  },
  {
   "cell_type": "code",
   "execution_count": null,
   "id": "d8de86ca-3c0a-4c0f-8428-b0abfcc44562",
   "metadata": {},
   "outputs": [],
   "source": [
    "32. What are the challenges in training neural networks with large datasets?"
   ]
  },
  {
   "cell_type": "code",
   "execution_count": null,
   "id": "83dc039a-da00-4263-8710-5c4a40e93be6",
   "metadata": {},
   "outputs": [],
   "source": [
    "ANS = \n",
    "     This can lead to several issues, such as the inability of the network to learn, poor generalization, and slow convergence.\n",
    "    There are several common activation functions that can suffer from non-saturation, \n",
    "    including the linear activation function and the sigmoid activation function."
   ]
  },
  {
   "cell_type": "code",
   "execution_count": null,
   "id": "e5266a31-28a0-4283-8864-142cc25e12b9",
   "metadata": {},
   "outputs": [],
   "source": []
  },
  {
   "cell_type": "code",
   "execution_count": null,
   "id": "d32539d5-10ac-4f57-a312-db5922897985",
   "metadata": {},
   "outputs": [],
   "source": [
    "33. Explain the concept of transfer learning in neural networks and its benefits."
   ]
  },
  {
   "cell_type": "code",
   "execution_count": null,
   "id": "216babea-8191-4a52-bb92-db953ac67e4c",
   "metadata": {},
   "outputs": [],
   "source": [
    "ANS = \n",
    "    Transfer learning allows developers to circumvent the need for lots of new data.\n",
    "    A model that has already been trained on a task for which labeled training data is \n",
    "    plentiful will be able to handle a new but similar task with far less data. \n",
    "    There are other benefits of transfer learning through deep learning as well.\n"
   ]
  },
  {
   "cell_type": "code",
   "execution_count": null,
   "id": "2ce3c731-8f1b-4822-8780-93c19b65f7cd",
   "metadata": {},
   "outputs": [],
   "source": []
  },
  {
   "cell_type": "code",
   "execution_count": null,
   "id": "4f4a2356-8852-45bf-bb33-daddd16f47fe",
   "metadata": {},
   "outputs": [],
   "source": [
    "34. How can neural networks be used for anomaly detection tasks?\n"
   ]
  },
  {
   "cell_type": "code",
   "execution_count": null,
   "id": "3bc2670e-282d-49f0-aafa-df648891e2e8",
   "metadata": {},
   "outputs": [],
   "source": [
    "ANS = \n",
    "    This is possible using a deep anomaly detection model.\n",
    "    In particular, ScoleMans can use an autoencoder or GAN-based model built with convolutional \n",
    "    neural network blocks (see Chapter 3. Deep Learning for Anomaly Detection for more information)\n",
    "    to create a model of normal data based on images of normal panels."
   ]
  },
  {
   "cell_type": "code",
   "execution_count": null,
   "id": "ad52fe80-4a0b-4860-bc26-85d3b5ce55db",
   "metadata": {},
   "outputs": [],
   "source": []
  },
  {
   "cell_type": "code",
   "execution_count": null,
   "id": "56bed73d-bc8e-464a-9251-b3871ff58e61",
   "metadata": {},
   "outputs": [],
   "source": [
    "35. Discuss the concept of model interpretability in neural networks."
   ]
  },
  {
   "cell_type": "code",
   "execution_count": null,
   "id": "018fe413-ed04-4eca-b66c-d93fc0bffb65",
   "metadata": {},
   "outputs": [],
   "source": [
    "ANS = \n",
    "    A model with high accuracy is what we usually call a good model, it learned the relationship between the inputs X and outputs y well.\n",
    "    If a model has high interpretability or explainability, we understand how the model makes a prediction and how we can\n",
    "    influence this prediction by changing input features"
   ]
  },
  {
   "cell_type": "code",
   "execution_count": null,
   "id": "22caf1e4-aff0-4597-92a1-2fac88f8ac07",
   "metadata": {},
   "outputs": [],
   "source": []
  },
  {
   "cell_type": "code",
   "execution_count": null,
   "id": "2484158b-2246-4220-8ff7-781c9a041f37",
   "metadata": {},
   "outputs": [],
   "source": [
    "36. What are the advantages and disadvantages of deep learning compared to traditional machine learning algorithms?\n"
   ]
  },
  {
   "cell_type": "code",
   "execution_count": null,
   "id": "3f6d24a9-0c05-467a-bd98-29333ee3bac6",
   "metadata": {},
   "outputs": [],
   "source": [
    "ANS = \n",
    "     Deep learning has several advantages over traditional machine learning methods,\n",
    "    including automatic feature learning, handling large and complex data, improved performance,\n",
    "    handling non-linear relationships, handling structured and unstructured data, predictive modeling,\n",
    "    handling missing data, handling sequential data,"
   ]
  },
  {
   "cell_type": "code",
   "execution_count": null,
   "id": "efd8fe67-141a-4d32-aca9-67ce432b0c39",
   "metadata": {},
   "outputs": [],
   "source": []
  },
  {
   "cell_type": "code",
   "execution_count": null,
   "id": "b2a7392e-34de-494d-8574-86827cfe5370",
   "metadata": {},
   "outputs": [],
   "source": [
    "37. Can you explain the concept of ensemble learning in the context of neural networks?"
   ]
  },
  {
   "cell_type": "code",
   "execution_count": null,
   "id": "97abece1-3e1f-4d05-8e63-dc7bd73fd774",
   "metadata": {},
   "outputs": [],
   "source": [
    "ANS = \n",
    "    Generally, ensemble learning involves training more than one network on the same dataset,\n",
    "    then using each of the trained models to make a prediction before combining the predictions \n",
    "    in some way to make a final outcome or prediction."
   ]
  },
  {
   "cell_type": "code",
   "execution_count": null,
   "id": "f22e5581-802e-4faa-b853-8183dd095db6",
   "metadata": {},
   "outputs": [],
   "source": []
  },
  {
   "cell_type": "code",
   "execution_count": null,
   "id": "b2a9d4ff-c767-4463-898e-c4b2a4aa41a5",
   "metadata": {},
   "outputs": [],
   "source": [
    "38. How can neural networks be used for natural language processing (NLP) tasks?"
   ]
  },
  {
   "cell_type": "code",
   "execution_count": null,
   "id": "3740a8f7-c26c-4fb5-b08c-55ab7fdad94d",
   "metadata": {},
   "outputs": [],
   "source": [
    "ANS = \n",
    "    To achieve this performance in NLP processes, the neural networks must be trained with \n",
    "    large amounts of documents (corpora) according to the type of text or language to be processed.\n",
    "    In NLP language models, neural networks act in the early stages,\n",
    "    transforming vocabulary words into vectors."
   ]
  },
  {
   "cell_type": "code",
   "execution_count": null,
   "id": "cce344cc-65d9-4877-8368-1f6c468b0d74",
   "metadata": {},
   "outputs": [],
   "source": []
  },
  {
   "cell_type": "code",
   "execution_count": null,
   "id": "cdbe7dc0-da88-49fb-abce-066f245419bf",
   "metadata": {},
   "outputs": [],
   "source": [
    "39. Discuss the concept and applications of self-supervised learning in neural networks."
   ]
  },
  {
   "cell_type": "code",
   "execution_count": null,
   "id": "700c3243-c42e-4ffc-99c5-2ffa5ee922b1",
   "metadata": {},
   "outputs": [],
   "source": [
    "ANS = \n",
    "    Self-supervised learning is a machine learning process where the model trains itself to\n",
    "    learn one part of the input from another part of the input.\n",
    "    It is also known as predictive or pretext learning. \n",
    "    In this process, the unsupervised problem is transformed into a supervised problem by auto-generating the labels."
   ]
  },
  {
   "cell_type": "code",
   "execution_count": null,
   "id": "aeb7ddbb-ee95-4835-8bfd-aa328e98272b",
   "metadata": {},
   "outputs": [],
   "source": []
  },
  {
   "cell_type": "code",
   "execution_count": null,
   "id": "c111bd73-7ea9-435f-9b57-4f0366a78f98",
   "metadata": {},
   "outputs": [],
   "source": [
    "40. What are the challenges in training neural networks with imbalanced datasets?"
   ]
  },
  {
   "cell_type": "code",
   "execution_count": null,
   "id": "bc90c8d7-dee1-492a-b8ad-12e89c31573e",
   "metadata": {},
   "outputs": [],
   "source": [
    "ANS = \n",
    "    The potential risk of data imbalance is that learning models tend to favor negative samples.\n",
    "    This phenomenon is exacerbated in the case of highly imbalanced data. \n",
    "    In this paper, we refer to the phenomenon in which neural networks tend to misclassify positive \n",
    "    samples as the negative class as negative class preference."
   ]
  },
  {
   "cell_type": "code",
   "execution_count": null,
   "id": "1178cb75-9767-472c-9072-332ac4cadcc0",
   "metadata": {},
   "outputs": [],
   "source": []
  },
  {
   "cell_type": "code",
   "execution_count": null,
   "id": "aa460f20-c1c6-47cd-a72b-ca678ef90a1b",
   "metadata": {},
   "outputs": [],
   "source": [
    "41. Explain the concept of adversarial attacks on neural networks and methods to mitigate them."
   ]
  },
  {
   "cell_type": "code",
   "execution_count": null,
   "id": "9541e3f2-7887-4965-b2d7-1a2815ef2f88",
   "metadata": {},
   "outputs": [],
   "source": [
    "ANS = \n",
    "    An adversarial attack is a method of making small modifications to the objects in such a way that\n",
    "    the machine learning model begins to misclassify them.\n",
    "    Neural networks (NN) are known to be vulnerable to such attacks. \n",
    "    Research of adversarial methods historically started in the sphere of image recognition."
   ]
  },
  {
   "cell_type": "code",
   "execution_count": null,
   "id": "719d32ec-7d3f-49da-85e9-6e63367fac2b",
   "metadata": {},
   "outputs": [],
   "source": []
  },
  {
   "cell_type": "code",
   "execution_count": null,
   "id": "195b6eb6-1e88-4269-b0a4-2907114cc51b",
   "metadata": {},
   "outputs": [],
   "source": [
    "42. Can you discuss the trade-off between model complexity and generalization performance in neural networks?"
   ]
  },
  {
   "cell_type": "code",
   "execution_count": null,
   "id": "cce4d069-1519-47a1-8781-baedc94e2e0e",
   "metadata": {},
   "outputs": [],
   "source": [
    "ANS = \n",
    "    One of the most important trade-offs is between complexity and generalization. \n",
    "    Complexity refers to how well a model can fit the data and capture the nuances and patterns.\n",
    "    Generalization refers to how well a model can perform on new and unseen data and avoid overfitting or underfitting."
   ]
  },
  {
   "cell_type": "code",
   "execution_count": null,
   "id": "c0c6ed5e-0764-44bc-8f9d-6ae452301baa",
   "metadata": {},
   "outputs": [],
   "source": []
  },
  {
   "cell_type": "code",
   "execution_count": null,
   "id": "1c2a9945-6aba-4401-b96f-aa5209aa9e46",
   "metadata": {},
   "outputs": [],
   "source": [
    "43. What are some techniques for handling missing data in neural networks?"
   ]
  },
  {
   "cell_type": "code",
   "execution_count": null,
   "id": "02ab89f8-6d68-4572-a1f1-66672911bb91",
   "metadata": {},
   "outputs": [],
   "source": [
    "ANS = \n",
    "    1.Deleting Rows with missing values.\n",
    "    2.Impute missing values for continuous variable.\n",
    "    3.Impute missing values for categorical variable.\n",
    "    4.Other Imputation Methods.\n",
    "    5.Using Algorithms that support missing values.\n",
    "    6.Prediction of missing values."
   ]
  },
  {
   "cell_type": "code",
   "execution_count": null,
   "id": "a8a10454-172e-4212-b6a5-15d10da95d04",
   "metadata": {},
   "outputs": [],
   "source": []
  },
  {
   "cell_type": "code",
   "execution_count": null,
   "id": "d8a94a2f-dcd1-402c-b3a2-1b3731ed8d4d",
   "metadata": {},
   "outputs": [],
   "source": [
    "44. Explain the concept and benefits of interpretability techniques like SHAP values and LIME in neural networks."
   ]
  },
  {
   "cell_type": "code",
   "execution_count": null,
   "id": "09ab7d79-2967-4893-83d0-6ccc7c88af63",
   "metadata": {},
   "outputs": [],
   "source": [
    "ANS = \n",
    "   SHAP values are based on game theory and assign an importance value to each feature in a model.\n",
    "    Features with positive SHAP values positively impact the prediction, while those with negative values have a negative impact. \n",
    "    The magnitude is a measure of how strong the effect."
   ]
  },
  {
   "cell_type": "code",
   "execution_count": null,
   "id": "107b1108-ce92-4357-aaa8-e79272c16302",
   "metadata": {},
   "outputs": [],
   "source": []
  },
  {
   "cell_type": "code",
   "execution_count": null,
   "id": "abd5cb5e-6656-4765-8b2d-6ffef55f6b1c",
   "metadata": {},
   "outputs": [],
   "source": [
    "45. How can neural networks be deployed on edge devices for real-time inference?"
   ]
  },
  {
   "cell_type": "code",
   "execution_count": null,
   "id": "bff0eccc-f6b3-4203-95ea-80dc6f4a5e8e",
   "metadata": {},
   "outputs": [],
   "source": [
    "ANS = \n",
    "    With edge computing, you can place artificial intelligence/machine learning -powered\n",
    "    applications physically closer to data sources like sensors,\n",
    "    cameras, and mobile devices to gather insights faster, identify patterns, \n",
    "    then initiate actions without relying on traditional cloud networks."
   ]
  },
  {
   "cell_type": "code",
   "execution_count": null,
   "id": "d1dbde21-40fa-49cf-948f-c32f380bb076",
   "metadata": {},
   "outputs": [],
   "source": []
  },
  {
   "cell_type": "code",
   "execution_count": null,
   "id": "8e5d4245-379d-4bd6-9f6c-d06229e0ccf8",
   "metadata": {},
   "outputs": [],
   "source": [
    "46. Discuss the considerations and challenges in scaling neural network training on distributed systems."
   ]
  },
  {
   "cell_type": "code",
   "execution_count": null,
   "id": "5a743bd2-4d24-4415-89f9-cf9ec3466466",
   "metadata": {},
   "outputs": [],
   "source": [
    "ANS = \n",
    "    In order to scale beyond the limits of distributed stochastic gradient descent we will need an algorithm that is far more communication efficient.\n",
    "    As seen in Algorithm 1, to update the parameters of\n",
    "    one network using codistillation one only needs the predictions of the other networks, which can be\n",
    "    computed locally from copies of the other networks weights.\n",
    "    There are several reasons to believe that stale predictions might be much less of a problem than stale\n",
    "    gradients for training:"
   ]
  },
  {
   "cell_type": "code",
   "execution_count": null,
   "id": "af7ae7fe-9396-477a-9a19-d901cae59e26",
   "metadata": {},
   "outputs": [],
   "source": []
  },
  {
   "cell_type": "code",
   "execution_count": null,
   "id": "ec3e4db8-047e-475c-a8d8-8f94da7a95f1",
   "metadata": {},
   "outputs": [],
   "source": [
    "47. What are the ethical implications of using neural networks in decision-making systems?"
   ]
  },
  {
   "cell_type": "code",
   "execution_count": null,
   "id": "1009b73b-98ba-4911-a7d0-511d9ad3bb19",
   "metadata": {},
   "outputs": [],
   "source": [
    "ANS = \n",
    "    Ethical considerations\n",
    "    This includes ensuring fairness, transparency, and accountability in the deployment of these systems.\n",
    "    Policymakers should consider potential biases in training data and the impact of decisions made by\n",
    "    neural networks on different groups of people."
   ]
  },
  {
   "cell_type": "code",
   "execution_count": null,
   "id": "a527cf58-832c-462b-9248-8bf48f0bf3d3",
   "metadata": {},
   "outputs": [],
   "source": []
  },
  {
   "cell_type": "code",
   "execution_count": null,
   "id": "1b4a08ff-ae3f-4a85-93b3-b184a302b786",
   "metadata": {},
   "outputs": [],
   "source": [
    "48. Can you explain the concept and applications of reinforcement learning in neural networks?"
   ]
  },
  {
   "cell_type": "code",
   "execution_count": null,
   "id": "cb157f3c-a54e-4013-9b5d-7b1d3d7ceee3",
   "metadata": {},
   "outputs": [],
   "source": [
    "ANS = \n",
    "    In Reinforcement Learning (RL), agents are trained on a reward and punishment mechanism. \n",
    "    The agent is rewarded for correct moves and punished for the wrong ones.\n",
    "    In doing so, the agent tries to minimize wrong moves and maximize the right ones."
   ]
  },
  {
   "cell_type": "code",
   "execution_count": null,
   "id": "f340a54e-6268-412a-bdef-063375659cb8",
   "metadata": {},
   "outputs": [],
   "source": []
  },
  {
   "cell_type": "code",
   "execution_count": null,
   "id": "0c5621c3-4353-4dd5-9480-5f619de97754",
   "metadata": {},
   "outputs": [],
   "source": [
    "49. Discuss the impact of batch size in training neural networks.\n"
   ]
  },
  {
   "cell_type": "code",
   "execution_count": null,
   "id": "77a16887-0e01-4ad4-9c42-139dfd14a22d",
   "metadata": {},
   "outputs": [],
   "source": [
    "ANS = \n",
    "     The batch size affects some indicators such as overall training time, \n",
    "    training time per epoch, quality of the model, \n",
    "    and similar. Usually, we chose the batch size as a power of two,\n",
    "    in the range between 16 and 512. But generally, the size of 32 is a rule of thumb and a good initial choice."
   ]
  },
  {
   "cell_type": "code",
   "execution_count": null,
   "id": "5ec4c0a4-6c34-47a9-8501-8696e34f75c8",
   "metadata": {},
   "outputs": [],
   "source": []
  },
  {
   "cell_type": "code",
   "execution_count": null,
   "id": "a2459b2f-d8bd-4b07-9e32-5c8732de3fbf",
   "metadata": {},
   "outputs": [],
   "source": [
    "50. What are the current limitations of neural networks and areas for future research?"
   ]
  },
  {
   "cell_type": "code",
   "execution_count": null,
   "id": "5d9d153a-3177-4f82-82c0-bca0a8d86e2d",
   "metadata": {},
   "outputs": [],
   "source": [
    "ANS = \n",
    "     Neural networks are vulnerable to subtle perturbations or modifications of the input data,\n",
    "    which can cause them to produce incorrect or misleading outputs. For example,\n",
    "    adding a small amount of noise or changing a few pixels in an image can fool a neural \n",
    "    network into misclassifying it as a different object."
   ]
  },
  {
   "cell_type": "code",
   "execution_count": null,
   "id": "fe62c410-4bef-4053-9dec-aef1e26da8d5",
   "metadata": {},
   "outputs": [],
   "source": []
  }
 ],
 "metadata": {
  "kernelspec": {
   "display_name": "Python 3 (ipykernel)",
   "language": "python",
   "name": "python3"
  },
  "language_info": {
   "codemirror_mode": {
    "name": "ipython",
    "version": 3
   },
   "file_extension": ".py",
   "mimetype": "text/x-python",
   "name": "python",
   "nbconvert_exporter": "python",
   "pygments_lexer": "ipython3",
   "version": "3.10.8"
  }
 },
 "nbformat": 4,
 "nbformat_minor": 5
}
